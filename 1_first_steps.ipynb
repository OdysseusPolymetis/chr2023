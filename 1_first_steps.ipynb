{
  "nbformat": 4,
  "nbformat_minor": 0,
  "metadata": {
    "colab": {
      "provenance": [],
      "mount_file_id": "1l6FrC5oXpha66KglFXfNh2EwXGs62aRa",
      "authorship_tag": "ABX9TyMW17+KRXR1DxsDj9zmWHq8",
      "include_colab_link": true
    },
    "kernelspec": {
      "name": "python3",
      "display_name": "Python 3"
    },
    "language_info": {
      "name": "python"
    }
  },
  "cells": [
    {
      "cell_type": "markdown",
      "metadata": {
        "id": "view-in-github",
        "colab_type": "text"
      },
      "source": [
        "<a href=\"https://colab.research.google.com/github/OdysseusPolymetis/chr2023/blob/main/1_first_steps.ipynb\" target=\"_parent\"><img src=\"https://colab.research.google.com/assets/colab-badge.svg\" alt=\"Open In Colab\"/></a>"
      ]
    },
    {
      "cell_type": "markdown",
      "source": [
        "#**PROGRAMMING IN PYTHON**"
      ],
      "metadata": {
        "id": "I4KAmYwG6Vvk"
      }
    },
    {
      "cell_type": "markdown",
      "source": [
        "##Variables"
      ],
      "metadata": {
        "id": "0yVxDD3LKtxh"
      }
    },
    {
      "cell_type": "markdown",
      "source": [
        "![variables](https://mw.home.amu.edu.pl/zajecia/PPR2017/var.gif \"variables\")\n"
      ],
      "metadata": {
        "id": "-aIicB8QLpQT"
      }
    },
    {
      "cell_type": "markdown",
      "source": [
        "##Variable types\n",
        "Some textual variable like <font color='red'>\"miserables.txt\"</font> will appear in red with quotes, while others will appear in green, like <font color='green'>40</font>, without quotes. That's because they encapsulate different kinds of data."
      ],
      "metadata": {
        "id": "gvvRCqlMVq0C"
      }
    },
    {
      "cell_type": "markdown",
      "source": [
        "| Data Type       | Explanation          | Example  |\n",
        "| ------------- |:-------------:| -----:|\n",
        "| String     | Text | ```\"lemonade\"``` |\n",
        "| Integer     | Whole Numbers      |   <font color='green'>```40```</font> |\n",
        "| Float | Decimal Numbers      |   <font color='green'>```40.2```</font> |\n",
        "| Boolean | True/False     |   <font color='green'>**```False```**</font> |"
      ],
      "metadata": {
        "id": "cT4IbDrcXC7B"
      }
    },
    {
      "cell_type": "markdown",
      "source": [
        "We can check easily."
      ],
      "metadata": {
        "id": "VV1nMpWYYD0z"
      }
    },
    {
      "cell_type": "code",
      "source": [
        "type(\"lemonade\")"
      ],
      "metadata": {
        "colab": {
          "base_uri": "https://localhost:8080/"
        },
        "id": "Mhg8CrVdYH6D",
        "outputId": "3091302f-223b-4d41-d8e0-5cac6262b786"
      },
      "execution_count": null,
      "outputs": [
        {
          "output_type": "execute_result",
          "data": {
            "text/plain": [
              "str"
            ]
          },
          "metadata": {},
          "execution_count": 22
        }
      ]
    },
    {
      "cell_type": "code",
      "source": [
        "type(40)"
      ],
      "metadata": {
        "colab": {
          "base_uri": "https://localhost:8080/"
        },
        "id": "QA0AkBL2YTRQ",
        "outputId": "97d3ee01-30c3-404e-b4cc-b976e3b23200"
      },
      "execution_count": null,
      "outputs": [
        {
          "output_type": "execute_result",
          "data": {
            "text/plain": [
              "int"
            ]
          },
          "metadata": {},
          "execution_count": 23
        }
      ]
    },
    {
      "cell_type": "markdown",
      "source": [
        "##Indentation in Python"
      ],
      "metadata": {
        "id": "jaQ-utDc35tV"
      }
    },
    {
      "cell_type": "markdown",
      "source": [
        "<img src='https://drive.google.com/uc?export=view&id=1_7lZJ4qI5K9Ha0B_nRjt6qw4klt7opYg' width=\"1000\">"
      ],
      "metadata": {
        "id": "AKKaPNRH39zP"
      }
    },
    {
      "cell_type": "markdown",
      "source": [
        "##Functions\n",
        "We are going to use textual objects, and try and do several things with them, such as lemmatizing and postagging.\n",
        "To do so, we'll use functions, to act repeatedly on those objects."
      ],
      "metadata": {
        "id": "a9aLQQCpNlP3"
      }
    },
    {
      "cell_type": "code",
      "source": [
        "def split_into_words(any_chunk_of_text):\n",
        "    words = re.split(\"\\W+\", any_chunk_of_text.lower())\n",
        "    return words"
      ],
      "metadata": {
        "id": "MCsRdtIHKy_J"
      },
      "execution_count": null,
      "outputs": []
    },
    {
      "cell_type": "code",
      "source": [
        "split_into_words(\"hello I'm a test\")"
      ],
      "metadata": {
        "id": "t-_vwLNQMFMr"
      },
      "execution_count": null,
      "outputs": []
    },
    {
      "cell_type": "markdown",
      "source": [
        "<img src='https://drive.google.com/uc?export=view&id=1IN-omiNV2tUXftyqaTBNO8aF-dMQPHiF' width=\"1000\">"
      ],
      "metadata": {
        "id": "n38OqIOtv-5d"
      }
    },
    {
      "cell_type": "markdown",
      "source": [
        "<img src='https://drive.google.com/uc?export=view&id=1hKB-GHN95o0E0CLDrBl75CQ2UlTObsJz' width=\"1000\">"
      ],
      "metadata": {
        "id": "Oy67qTtMwQEy"
      }
    },
    {
      "cell_type": "markdown",
      "source": [
        "##Loops"
      ],
      "metadata": {
        "id": "gIo2Y0SNwju_"
      }
    },
    {
      "cell_type": "markdown",
      "source": [
        "You may not want to re-write everything each time you perform an action on your data (eg. lemmatize the entire sentence, you may not want to call lemmatize() on each word). So, we'll need loops, that can repeat these actions with conditions. Eg, if you've got a list of words to lemmatize, you'll say \"ok, as long as you have words in your sentence, lemmatize\"."
      ],
      "metadata": {
        "id": "mJI3gGOhxATl"
      }
    },
    {
      "cell_type": "markdown",
      "source": [
        "<img src='https://drive.google.com/uc?export=view&id=1XKcA0ffSy3i6A0S5jWI7LPz7-PbZ1T88' width=\"1000\">"
      ],
      "metadata": {
        "id": "oIlA3y6fxqdu"
      }
    },
    {
      "cell_type": "markdown",
      "source": [
        "<img src='https://drive.google.com/uc?export=view&id=1yf_wPus-G__l4rjeY5I4vzc3rtdU31JC' width=\"1000\">"
      ],
      "metadata": {
        "id": "_IBs1hzMyMrH"
      }
    },
    {
      "cell_type": "markdown",
      "source": [
        "##Conditions"
      ],
      "metadata": {
        "id": "woYTd6ZHzENp"
      }
    },
    {
      "cell_type": "markdown",
      "source": [
        "That's where you say \"do such an action if you are in this state\".\n",
        "<br>Basic structure is as follows :\n",
        "\n",
        "<br>**`if`** `some_first_condition :`\n",
        "<br>&nbsp;&nbsp;&nbsp;&nbsp;&nbsp;&nbsp;`do_something()`\n",
        "<br>**`elif`** `some_second_condtion :`\n",
        "<br>&nbsp;&nbsp;&nbsp;&nbsp;&nbsp;&nbsp;`do_something_else()`\n",
        "<br>**`else`** `:`\n",
        "<br>&nbsp;&nbsp;&nbsp;&nbsp;&nbsp;&nbsp;`do_a_third_thing()`"
      ],
      "metadata": {
        "id": "9ghQrHrazGlV"
      }
    },
    {
      "cell_type": "markdown",
      "source": [
        "<img src='https://drive.google.com/uc?export=view&id=1VYhnaiNah0xsn1We5XR1LeoXnj2SKOJh' width=\"1000\">"
      ],
      "metadata": {
        "id": "APPclu803XlV"
      }
    },
    {
      "cell_type": "markdown",
      "source": [
        "##Libraries\n",
        "A lot of functions have already been written by others and can be imported directly in your python code. You can install them easily in your virtual environment doing so :\n",
        "<br>`pip install yourLib`\n",
        "<br>Once it is installed, you can just call your lib using `import` (you can also be more specific and not import the whole lib using `from`for a specific library)."
      ],
      "metadata": {
        "id": "w-O2tZ2XOC8x"
      }
    },
    {
      "cell_type": "code",
      "source": [
        "import re\n",
        "from collections import Counter"
      ],
      "metadata": {
        "id": "xodiXwI2N6NG"
      },
      "execution_count": null,
      "outputs": []
    },
    {
      "cell_type": "markdown",
      "source": [
        "In the following cell, we'll import a .txt document to use it for basic operations, using the gdown module, as the text is stored on a google drive."
      ],
      "metadata": {
        "id": "PN0QL5-2OMzD"
      }
    },
    {
      "cell_type": "code",
      "source": [
        "!gdown --id 1GEgd5cQoJkTm5PRWfixxOKHe3uOlxFqo"
      ],
      "metadata": {
        "colab": {
          "base_uri": "https://localhost:8080/"
        },
        "id": "cUfXFR7NaceQ",
        "outputId": "4c1531ad-f2b0-4bac-fec8-6c558cebbec7"
      },
      "execution_count": null,
      "outputs": [
        {
          "output_type": "stream",
          "name": "stdout",
          "text": [
            "/usr/local/lib/python3.7/dist-packages/gdown/cli.py:131: FutureWarning: Option `--id` was deprecated in version 4.3.1 and will be removed in 5.0. You don't need to pass it anymore to use a file ID.\n",
            "  category=FutureWarning,\n",
            "Downloading...\n",
            "From: https://drive.google.com/uc?id=1GEgd5cQoJkTm5PRWfixxOKHe3uOlxFqo\n",
            "To: /content/miserables.txt\n",
            "100% 3.17M/3.17M [00:00<00:00, 236MB/s]\n"
          ]
        }
      ]
    },
    {
      "cell_type": "code",
      "source": [
        "filepath_of_text = \"/content/miserables.txt\"\n",
        "number_of_desired_words = 40"
      ],
      "metadata": {
        "id": "kL087d_AOSzZ"
      },
      "execution_count": null,
      "outputs": []
    },
    {
      "cell_type": "markdown",
      "source": [
        "This is a basic function to call a file from a specific directory, and read it to encapsulate it in a variable (here `full_text`)."
      ],
      "metadata": {
        "id": "kM4xlQF2Pve6"
      }
    },
    {
      "cell_type": "code",
      "source": [
        "full_text = open(filepath_of_text, encoding=\"utf-8\").read()"
      ],
      "metadata": {
        "id": "QpGGAvpFPqiN"
      },
      "execution_count": null,
      "outputs": []
    },
    {
      "cell_type": "markdown",
      "source": [
        "Now, let's use the previous function we created (`split_into_words`) to basically split the data within this variable."
      ],
      "metadata": {
        "id": "gw-gYHfrSSYh"
      }
    },
    {
      "cell_type": "code",
      "source": [
        "all_the_words = split_into_words(full_text)"
      ],
      "metadata": {
        "id": "rtip4PHxPw0-"
      },
      "execution_count": null,
      "outputs": []
    },
    {
      "cell_type": "markdown",
      "source": [
        "You'll get a list of words. You can check part of the resulting list by indices."
      ],
      "metadata": {
        "id": "WJP5I9tUPKAE"
      }
    },
    {
      "cell_type": "code",
      "source": [
        "all_the_words[50:60]"
      ],
      "metadata": {
        "colab": {
          "base_uri": "https://localhost:8080/"
        },
        "id": "m8o9b1n6Sce8",
        "outputId": "82937562-b598-4d53-d337-2ff2f2c67cc7"
      },
      "execution_count": null,
      "outputs": [
        {
          "output_type": "execute_result",
          "data": {
            "text/plain": [
              "['même', 'de', 'ce', 'que', 'nous', 'avons', 'à', 'raconter', 'il', 'n']"
            ]
          },
          "metadata": {},
          "execution_count": 11
        }
      ]
    },
    {
      "cell_type": "markdown",
      "source": [
        "#Some useful tips for strings\n",
        "These are the basic functions you can use to manipulate string variables."
      ],
      "metadata": {
        "id": "pjbrvmsIYrcE"
      }
    },
    {
      "cell_type": "code",
      "source": [
        "first_line = full_text[88:155]\n",
        "print(first_line)"
      ],
      "metadata": {
        "colab": {
          "base_uri": "https://localhost:8080/"
        },
        "id": "EvpU8o2sZA4a",
        "outputId": "730e605b-f6f9-48c2-a23e-3c241e48ce26"
      },
      "execution_count": null,
      "outputs": [
        {
          "output_type": "stream",
          "name": "stdout",
          "text": [
            "En 1815, M. Charles-François-Bienvenu Myriel était évêque de Digne.\n"
          ]
        }
      ]
    },
    {
      "cell_type": "markdown",
      "source": [
        "| **String Method** | **Explanation**                                                                                   |\n",
        "|:-------------:|:---------------------------------------------------------------------------------------------------:|\n",
        "| `string.lower()`         | makes the string lowercase                                                                                |\n",
        "| `string.upper()`         | makes the string uppercase  \n",
        "| `string.title()`         | makes the string titlecase\n",
        "| `string.strip()`         | removes lead and trailing white spaces     |\n",
        "| `string.replace('old string', 'new string')`      | replaces `old string` with `new string`          |\n",
        "| `string.split('delim')`          | returns a list of substrings separated by the given delimiter |\n",
        "| `string.join(list)`         | opposite of split(), joins the elements in the given list together using the string                                                                        |\n",
        "| `string.startswith('some string')`       | tests whether string begins with `some string` |                                                       |\n",
        "| `string.endswith('some string')`       |  tests whether string ends with `some string`   |\n",
        "| `string.isspace()`       |  tests whether string is a space |\n",
        "| `string.replace('old string', 'new string')`      | replaces `old string` with `new string`          |\n",
        "\n",
        "                                                            "
      ],
      "metadata": {
        "id": "LfCPzuAEaKji"
      }
    },
    {
      "cell_type": "markdown",
      "source": [
        "So :"
      ],
      "metadata": {
        "id": "GFV1eW01aggH"
      }
    },
    {
      "cell_type": "code",
      "source": [
        "print(first_line.replace(\"était\", \"est\"))\n",
        "print(first_line.lower())\n",
        "print(first_line.upper())\n",
        "print(first_line.title())"
      ],
      "metadata": {
        "colab": {
          "base_uri": "https://localhost:8080/"
        },
        "id": "LrMw2B-Oai9H",
        "outputId": "b9d654ab-94cb-4102-d5b0-2f59c6932254"
      },
      "execution_count": null,
      "outputs": [
        {
          "output_type": "stream",
          "name": "stdout",
          "text": [
            "En 1815, M. Charles-François-Bienvenu Myriel est évêque de Digne.\n",
            "en 1815, m. charles-françois-bienvenu myriel était évêque de digne.\n",
            "EN 1815, M. CHARLES-FRANÇOIS-BIENVENU MYRIEL ÉTAIT ÉVÊQUE DE DIGNE.\n",
            "En 1815, M. Charles-François-Bienvenu Myriel Était Évêque De Digne.\n"
          ]
        }
      ]
    },
    {
      "cell_type": "markdown",
      "source": [
        "You can also split on specific strings, such as `\\s`"
      ],
      "metadata": {
        "id": "l6-MC_0wbHQX"
      }
    },
    {
      "cell_type": "markdown",
      "source": [
        "| **String Method** | **Explanation**                                                                                   |\n",
        "|:-------------:|:---------------------------------------------------------------------------------------------------:|\n",
        "| `string.split('delim')`          | returns a list of substrings separated by the given delimiter |                                                       "
      ],
      "metadata": {
        "id": "Okgz2Cp2bW0R"
      }
    },
    {
      "cell_type": "code",
      "source": [
        "first_line.split(\" \")"
      ],
      "metadata": {
        "colab": {
          "base_uri": "https://localhost:8080/"
        },
        "id": "SqO3f58gbZsk",
        "outputId": "1d17489c-8460-4fde-f797-677149a41862"
      },
      "execution_count": null,
      "outputs": [
        {
          "output_type": "execute_result",
          "data": {
            "text/plain": [
              "['En',\n",
              " '1815,',\n",
              " 'M.',\n",
              " 'Charles-François-Bienvenu',\n",
              " 'Myriel',\n",
              " 'était',\n",
              " 'évêque',\n",
              " 'de',\n",
              " 'Digne.']"
            ]
          },
          "metadata": {},
          "execution_count": 42
        }
      ]
    },
    {
      "cell_type": "markdown",
      "source": [
        "##Import data from other modules\n",
        "Sometimes, some libs provide useful lists of strings that you can reload and use. One of the most well known libs in this regard is `nltk` (for stopwords for example)."
      ],
      "metadata": {
        "id": "jGUc_uP5b0A2"
      }
    },
    {
      "cell_type": "code",
      "source": [
        "import nltk\n",
        "nltk.download('stopwords')\n",
        "from nltk.corpus import stopwords\n",
        "french_stopwords = set(stopwords.words('french'))"
      ],
      "metadata": {
        "colab": {
          "base_uri": "https://localhost:8080/"
        },
        "id": "2N0VIz8rSovn",
        "outputId": "004cb4ec-295a-42f6-cc9f-6af0138e0ebc"
      },
      "execution_count": null,
      "outputs": [
        {
          "output_type": "stream",
          "name": "stdout",
          "text": [
            "[nltk_data] Downloading package stopwords to /root/nltk_data...\n",
            "[nltk_data]   Unzipping corpora/stopwords.zip.\n"
          ]
        }
      ]
    },
    {
      "cell_type": "markdown",
      "source": [
        "Here we're going to use nltk French stopwords to filter our previous variable `all_the_words`."
      ],
      "metadata": {
        "id": "hhptWkoiQRZb"
      }
    },
    {
      "cell_type": "code",
      "source": [
        "meaningful_words = [word for word in all_the_words if word not in french_stopwords]"
      ],
      "metadata": {
        "id": "pDeoMttaThMo"
      },
      "execution_count": null,
      "outputs": []
    },
    {
      "cell_type": "code",
      "source": [
        "meaningful_words[50:60]"
      ],
      "metadata": {
        "colab": {
          "base_uri": "https://localhost:8080/"
        },
        "id": "4kxQNYk4USjX",
        "outputId": "c0f01f56-e18f-4c2d-ffd5-eb791eba8403"
      },
      "execution_count": null,
      "outputs": [
        {
          "output_type": "execute_result",
          "data": {
            "text/plain": [
              "['vrai',\n",
              " 'faux',\n",
              " 'dit',\n",
              " 'hommes',\n",
              " 'tient',\n",
              " 'souvent',\n",
              " 'autant',\n",
              " 'place',\n",
              " 'vie',\n",
              " 'surtout']"
            ]
          },
          "metadata": {},
          "execution_count": 16
        }
      ]
    },
    {
      "cell_type": "markdown",
      "source": [
        "You can also count the words pretty easily and index them according to their frequency."
      ],
      "metadata": {
        "id": "AWhWRG-sU_Qh"
      }
    },
    {
      "cell_type": "code",
      "source": [
        "meaningful_words_tally = Counter(meaningful_words)"
      ],
      "metadata": {
        "id": "XUC-HaP3Ue4P"
      },
      "execution_count": null,
      "outputs": []
    },
    {
      "cell_type": "markdown",
      "source": [
        "You may not want to see all the words, and ask for a specific number of words, using the `number_of_desired_words` variable."
      ],
      "metadata": {
        "id": "xmGzxGLDVGgD"
      }
    },
    {
      "cell_type": "code",
      "source": [
        "most_frequent_meaningful_words = meaningful_words_tally.most_common(number_of_desired_words)"
      ],
      "metadata": {
        "id": "kC3RQy3JUnd2"
      },
      "execution_count": null,
      "outputs": []
    },
    {
      "cell_type": "code",
      "source": [
        "most_frequent_meaningful_words"
      ],
      "metadata": {
        "colab": {
          "base_uri": "https://localhost:8080/"
        },
        "id": "nXicGIplUrMp",
        "outputId": "5f6b5396-0298-44a8-9846-feb023742ddc"
      },
      "execution_count": null,
      "outputs": [
        {
          "output_type": "execute_result",
          "data": {
            "text/plain": [
              "[('plus', 2475),\n",
              " ('a', 2461),\n",
              " ('cette', 2412),\n",
              " ('comme', 2199),\n",
              " ('tout', 2126),\n",
              " ('dit', 1732),\n",
              " ('là', 1513),\n",
              " ('homme', 1490),\n",
              " ('deux', 1480),\n",
              " ('où', 1400),\n",
              " ('marius', 1354),\n",
              " ('jean', 1233),\n",
              " ('être', 1184),\n",
              " ('cela', 1166),\n",
              " ('si', 1147),\n",
              " ('fait', 1138),\n",
              " ('valjean', 1113),\n",
              " ('bien', 1104),\n",
              " ('cosette', 1014),\n",
              " ('sans', 993),\n",
              " ('rue', 940),\n",
              " ('sous', 828),\n",
              " ('autre', 816),\n",
              " ('rien', 771),\n",
              " ('tous', 762),\n",
              " ('monsieur', 738),\n",
              " ('peu', 734),\n",
              " ('faire', 727),\n",
              " ('père', 708),\n",
              " ('dire', 706),\n",
              " ('cet', 682),\n",
              " ('quand', 673),\n",
              " ('puis', 661),\n",
              " ('chose', 659),\n",
              " ('toute', 648),\n",
              " ('encore', 644),\n",
              " ('quelque', 631),\n",
              " ('point', 623),\n",
              " ('temps', 606),\n",
              " ('thénardier', 590)]"
            ]
          },
          "metadata": {},
          "execution_count": 21
        }
      ]
    }
  ]
}