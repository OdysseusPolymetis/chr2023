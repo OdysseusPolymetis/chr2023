{
  "nbformat": 4,
  "nbformat_minor": 0,
  "metadata": {
    "colab": {
      "provenance": [],
      "authorship_tag": "ABX9TyPZVb+89wQn8MsFydVqAh7S",
      "include_colab_link": true
    },
    "kernelspec": {
      "name": "python3",
      "display_name": "Python 3"
    },
    "language_info": {
      "name": "python"
    }
  },
  "cells": [
    {
      "cell_type": "markdown",
      "metadata": {
        "id": "view-in-github",
        "colab_type": "text"
      },
      "source": [
        "<a href=\"https://colab.research.google.com/github/OdysseusPolymetis/chr2023/blob/main/6_bias_in_word_vectors.ipynb\" target=\"_parent\"><img src=\"https://colab.research.google.com/assets/colab-badge.svg\" alt=\"Open In Colab\"/></a>"
      ]
    },
    {
      "cell_type": "code",
      "execution_count": null,
      "metadata": {
        "id": "vpFZ9Ru3_8WT",
        "colab": {
          "base_uri": "https://localhost:8080/"
        },
        "outputId": "1e8aeff5-390e-4f16-e683-adcbb3b631f0"
      },
      "outputs": [
        {
          "output_type": "stream",
          "name": "stdout",
          "text": [
            "Requirement already satisfied: gensim in /usr/local/lib/python3.10/dist-packages (4.3.2)\n",
            "Collecting ConceptNet\n",
            "  Downloading ConceptNet-5.7.0.tar.gz (5.1 MB)\n",
            "\u001b[2K     \u001b[90m━━━━━━━━━━━━━━━━━━━━━━━━━━━━━━━━━━━━━━━━\u001b[0m \u001b[32m5.1/5.1 MB\u001b[0m \u001b[31m6.0 MB/s\u001b[0m eta \u001b[36m0:00:00\u001b[0m\n",
            "\u001b[?25h  Preparing metadata (setup.py) ... \u001b[?25l\u001b[?25hdone\n",
            "Requirement already satisfied: numpy>=1.18.5 in /usr/local/lib/python3.10/dist-packages (from gensim) (1.23.5)\n",
            "Requirement already satisfied: scipy>=1.7.0 in /usr/local/lib/python3.10/dist-packages (from gensim) (1.11.4)\n",
            "Requirement already satisfied: smart-open>=1.8.1 in /usr/local/lib/python3.10/dist-packages (from gensim) (6.4.0)\n",
            "Collecting snakemake (from ConceptNet)\n",
            "  Downloading snakemake-7.32.4.tar.gz (371 kB)\n",
            "\u001b[2K     \u001b[90m━━━━━━━━━━━━━━━━━━━━━━━━━━━━━━━━━━━━━━━━\u001b[0m \u001b[32m371.2/371.2 kB\u001b[0m \u001b[31m18.1 MB/s\u001b[0m eta \u001b[36m0:00:00\u001b[0m\n",
            "\u001b[?25h  Installing build dependencies ... \u001b[?25l\u001b[?25hdone\n",
            "  Getting requirements to build wheel ... \u001b[?25l\u001b[?25hdone\n",
            "  Installing backend dependencies ... \u001b[?25l\u001b[?25hdone\n",
            "  Preparing metadata (pyproject.toml) ... \u001b[?25l\u001b[?25hdone\n",
            "Requirement already satisfied: click in /usr/local/lib/python3.10/dist-packages (from ConceptNet) (8.1.7)\n",
            "Requirement already satisfied: requests in /usr/local/lib/python3.10/dist-packages (from ConceptNet) (2.31.0)\n",
            "Collecting ftfy (from ConceptNet)\n",
            "  Downloading ftfy-6.1.3-py3-none-any.whl (53 kB)\n",
            "\u001b[2K     \u001b[90m━━━━━━━━━━━━━━━━━━━━━━━━━━━━━━━━━━━━━━━━\u001b[0m \u001b[32m53.4/53.4 kB\u001b[0m \u001b[31m7.6 MB/s\u001b[0m eta \u001b[36m0:00:00\u001b[0m\n",
            "\u001b[?25hCollecting msgpack-python (from ConceptNet)\n",
            "  Downloading msgpack-python-0.5.6.tar.gz (138 kB)\n",
            "\u001b[2K     \u001b[90m━━━━━━━━━━━━━━━━━━━━━━━━━━━━━━━━━━━━━━━━\u001b[0m \u001b[32m139.0/139.0 kB\u001b[0m \u001b[31m16.8 MB/s\u001b[0m eta \u001b[36m0:00:00\u001b[0m\n",
            "\u001b[?25h  Preparing metadata (setup.py) ... \u001b[?25l\u001b[?25hdone\n",
            "Requirement already satisfied: langcodes>=1.4.1 in /usr/local/lib/python3.10/dist-packages (from ConceptNet) (3.3.0)\n",
            "Collecting wordfreq>=2.0.1 (from ConceptNet)\n",
            "  Downloading wordfreq-3.1.1-py3-none-any.whl (56.8 MB)\n",
            "\u001b[2K     \u001b[90m━━━━━━━━━━━━━━━━━━━━━━━━━━━━━━━━━━━━━━━━\u001b[0m \u001b[32m56.8/56.8 MB\u001b[0m \u001b[31m11.9 MB/s\u001b[0m eta \u001b[36m0:00:00\u001b[0m\n",
            "\u001b[?25hCollecting xmltodict<0.12.0,>=0.11.0 (from ConceptNet)\n",
            "  Downloading xmltodict-0.11.0-py2.py3-none-any.whl (7.2 kB)\n",
            "Collecting ordered_set (from ConceptNet)\n",
            "  Downloading ordered_set-4.1.0-py3-none-any.whl (7.6 kB)\n",
            "Collecting psycopg2-binary (from ConceptNet)\n",
            "  Downloading psycopg2_binary-2.9.9-cp310-cp310-manylinux_2_17_x86_64.manylinux2014_x86_64.whl (3.0 MB)\n",
            "\u001b[2K     \u001b[90m━━━━━━━━━━━━━━━━━━━━━━━━━━━━━━━━━━━━━━━━\u001b[0m \u001b[32m3.0/3.0 MB\u001b[0m \u001b[31m100.6 MB/s\u001b[0m eta \u001b[36m0:00:00\u001b[0m\n",
            "\u001b[?25hCollecting marisa-trie (from ConceptNet)\n",
            "  Downloading marisa_trie-1.1.0-cp310-cp310-manylinux_2_17_x86_64.manylinux2014_x86_64.whl (1.3 MB)\n",
            "\u001b[2K     \u001b[90m━━━━━━━━━━━━━━━━━━━━━━━━━━━━━━━━━━━━━━━━\u001b[0m \u001b[32m1.3/1.3 MB\u001b[0m \u001b[31m76.7 MB/s\u001b[0m eta \u001b[36m0:00:00\u001b[0m\n",
            "\u001b[?25hCollecting locate<2.0.0,>=1.1.1 (from wordfreq>=2.0.1->ConceptNet)\n",
            "  Downloading locate-1.1.1-py3-none-any.whl (5.4 kB)\n",
            "Requirement already satisfied: msgpack<2.0.0,>=1.0.7 in /usr/local/lib/python3.10/dist-packages (from wordfreq>=2.0.1->ConceptNet) (1.0.7)\n",
            "Collecting regex>=2023.10.3 (from wordfreq>=2.0.1->ConceptNet)\n",
            "  Downloading regex-2023.10.3-cp310-cp310-manylinux_2_17_x86_64.manylinux2014_x86_64.whl (773 kB)\n",
            "\u001b[2K     \u001b[90m━━━━━━━━━━━━━━━━━━━━━━━━━━━━━━━━━━━━━━━━\u001b[0m \u001b[32m773.9/773.9 kB\u001b[0m \u001b[31m66.3 MB/s\u001b[0m eta \u001b[36m0:00:00\u001b[0m\n",
            "\u001b[?25hRequirement already satisfied: wcwidth<0.3.0,>=0.2.12 in /usr/local/lib/python3.10/dist-packages (from ftfy->ConceptNet) (0.2.12)\n",
            "Requirement already satisfied: setuptools in /usr/local/lib/python3.10/dist-packages (from marisa-trie->ConceptNet) (67.7.2)\n",
            "Requirement already satisfied: charset-normalizer<4,>=2 in /usr/local/lib/python3.10/dist-packages (from requests->ConceptNet) (3.3.2)\n",
            "Requirement already satisfied: idna<4,>=2.5 in /usr/local/lib/python3.10/dist-packages (from requests->ConceptNet) (3.6)\n",
            "Requirement already satisfied: urllib3<3,>=1.21.1 in /usr/local/lib/python3.10/dist-packages (from requests->ConceptNet) (2.0.7)\n",
            "Requirement already satisfied: certifi>=2017.4.17 in /usr/local/lib/python3.10/dist-packages (from requests->ConceptNet) (2023.11.17)\n",
            "Requirement already satisfied: appdirs in /usr/local/lib/python3.10/dist-packages (from snakemake->ConceptNet) (1.4.4)\n",
            "Collecting configargparse (from snakemake->ConceptNet)\n",
            "  Downloading ConfigArgParse-1.7-py3-none-any.whl (25 kB)\n",
            "Collecting connection-pool>=0.0.3 (from snakemake->ConceptNet)\n",
            "  Downloading connection_pool-0.0.3.tar.gz (3.8 kB)\n",
            "  Preparing metadata (setup.py) ... \u001b[?25l\u001b[?25hdone\n",
            "Collecting datrie (from snakemake->ConceptNet)\n",
            "  Downloading datrie-0.8.2.tar.gz (63 kB)\n",
            "\u001b[2K     \u001b[90m━━━━━━━━━━━━━━━━━━━━━━━━━━━━━━━━━━━━━━━━\u001b[0m \u001b[32m63.3/63.3 kB\u001b[0m \u001b[31m9.8 MB/s\u001b[0m eta \u001b[36m0:00:00\u001b[0m\n",
            "\u001b[?25h  Installing build dependencies ... \u001b[?25l\u001b[?25hdone\n",
            "  Getting requirements to build wheel ... \u001b[?25l\u001b[?25hdone\n",
            "  Installing backend dependencies ... \u001b[?25l\u001b[?25hdone\n",
            "  Preparing metadata (pyproject.toml) ... \u001b[?25l\u001b[?25hdone\n",
            "Requirement already satisfied: docutils in /usr/local/lib/python3.10/dist-packages (from snakemake->ConceptNet) (0.18.1)\n",
            "Collecting gitpython (from snakemake->ConceptNet)\n",
            "  Downloading GitPython-3.1.40-py3-none-any.whl (190 kB)\n",
            "\u001b[2K     \u001b[90m━━━━━━━━━━━━━━━━━━━━━━━━━━━━━━━━━━━━━━━━\u001b[0m \u001b[32m190.6/190.6 kB\u001b[0m \u001b[31m22.0 MB/s\u001b[0m eta \u001b[36m0:00:00\u001b[0m\n",
            "\u001b[?25hCollecting humanfriendly (from snakemake->ConceptNet)\n",
            "  Downloading humanfriendly-10.0-py2.py3-none-any.whl (86 kB)\n",
            "\u001b[2K     \u001b[90m━━━━━━━━━━━━━━━━━━━━━━━━━━━━━━━━━━━━━━━━\u001b[0m \u001b[32m86.8/86.8 kB\u001b[0m \u001b[31m8.3 MB/s\u001b[0m eta \u001b[36m0:00:00\u001b[0m\n",
            "\u001b[?25hRequirement already satisfied: jinja2<4.0,>=3.0 in /usr/local/lib/python3.10/dist-packages (from snakemake->ConceptNet) (3.1.2)\n",
            "Requirement already satisfied: jsonschema in /usr/local/lib/python3.10/dist-packages (from snakemake->ConceptNet) (4.19.2)\n",
            "Requirement already satisfied: nbformat in /usr/local/lib/python3.10/dist-packages (from snakemake->ConceptNet) (5.9.2)\n",
            "Requirement already satisfied: packaging in /usr/local/lib/python3.10/dist-packages (from snakemake->ConceptNet) (23.2)\n",
            "Requirement already satisfied: psutil in /usr/local/lib/python3.10/dist-packages (from snakemake->ConceptNet) (5.9.5)\n",
            "Collecting pulp>=2.0 (from snakemake->ConceptNet)\n",
            "  Downloading PuLP-2.7.0-py3-none-any.whl (14.3 MB)\n",
            "\u001b[2K     \u001b[90m━━━━━━━━━━━━━━━━━━━━━━━━━━━━━━━━━━━━━━━━\u001b[0m \u001b[32m14.3/14.3 MB\u001b[0m \u001b[31m73.0 MB/s\u001b[0m eta \u001b[36m0:00:00\u001b[0m\n",
            "\u001b[?25hRequirement already satisfied: pyyaml in /usr/local/lib/python3.10/dist-packages (from snakemake->ConceptNet) (6.0.1)\n",
            "Collecting reretry (from snakemake->ConceptNet)\n",
            "  Downloading reretry-0.11.8-py2.py3-none-any.whl (5.6 kB)\n",
            "Collecting stopit (from snakemake->ConceptNet)\n",
            "  Downloading stopit-1.1.2.tar.gz (18 kB)\n",
            "  Preparing metadata (setup.py) ... \u001b[?25l\u001b[?25hdone\n",
            "Requirement already satisfied: tabulate in /usr/local/lib/python3.10/dist-packages (from snakemake->ConceptNet) (0.9.0)\n",
            "Collecting throttler (from snakemake->ConceptNet)\n",
            "  Downloading throttler-1.2.2-py3-none-any.whl (7.6 kB)\n",
            "Collecting toposort>=1.10 (from snakemake->ConceptNet)\n",
            "  Downloading toposort-1.10-py3-none-any.whl (8.5 kB)\n",
            "Requirement already satisfied: wrapt in /usr/local/lib/python3.10/dist-packages (from snakemake->ConceptNet) (1.14.1)\n",
            "Collecting yte<2.0,>=1.5.1 (from snakemake->ConceptNet)\n",
            "  Downloading yte-1.5.1-py3-none-any.whl (7.5 kB)\n",
            "Requirement already satisfied: MarkupSafe>=2.0 in /usr/local/lib/python3.10/dist-packages (from jinja2<4.0,>=3.0->snakemake->ConceptNet) (2.1.3)\n",
            "Collecting dpath<3.0,>=2.0 (from yte<2.0,>=1.5.1->snakemake->ConceptNet)\n",
            "  Downloading dpath-2.1.6-py3-none-any.whl (17 kB)\n",
            "Collecting plac<2.0.0,>=1.3.4 (from yte<2.0,>=1.5.1->snakemake->ConceptNet)\n",
            "  Downloading plac-1.4.1-py2.py3-none-any.whl (22 kB)\n",
            "Collecting gitdb<5,>=4.0.1 (from gitpython->snakemake->ConceptNet)\n",
            "  Downloading gitdb-4.0.11-py3-none-any.whl (62 kB)\n",
            "\u001b[2K     \u001b[90m━━━━━━━━━━━━━━━━━━━━━━━━━━━━━━━━━━━━━━━━\u001b[0m \u001b[32m62.7/62.7 kB\u001b[0m \u001b[31m8.2 MB/s\u001b[0m eta \u001b[36m0:00:00\u001b[0m\n",
            "\u001b[?25hRequirement already satisfied: attrs>=22.2.0 in /usr/local/lib/python3.10/dist-packages (from jsonschema->snakemake->ConceptNet) (23.1.0)\n",
            "Requirement already satisfied: jsonschema-specifications>=2023.03.6 in /usr/local/lib/python3.10/dist-packages (from jsonschema->snakemake->ConceptNet) (2023.11.1)\n",
            "Requirement already satisfied: referencing>=0.28.4 in /usr/local/lib/python3.10/dist-packages (from jsonschema->snakemake->ConceptNet) (0.31.1)\n",
            "Requirement already satisfied: rpds-py>=0.7.1 in /usr/local/lib/python3.10/dist-packages (from jsonschema->snakemake->ConceptNet) (0.13.2)\n",
            "Requirement already satisfied: fastjsonschema in /usr/local/lib/python3.10/dist-packages (from nbformat->snakemake->ConceptNet) (2.19.0)\n",
            "Requirement already satisfied: jupyter-core in /usr/local/lib/python3.10/dist-packages (from nbformat->snakemake->ConceptNet) (5.5.0)\n",
            "Requirement already satisfied: traitlets>=5.1 in /usr/local/lib/python3.10/dist-packages (from nbformat->snakemake->ConceptNet) (5.7.1)\n",
            "Collecting smmap<6,>=3.0.1 (from gitdb<5,>=4.0.1->gitpython->snakemake->ConceptNet)\n",
            "  Downloading smmap-5.0.1-py3-none-any.whl (24 kB)\n",
            "Requirement already satisfied: platformdirs>=2.5 in /usr/local/lib/python3.10/dist-packages (from jupyter-core->nbformat->snakemake->ConceptNet) (4.0.0)\n",
            "Building wheels for collected packages: ConceptNet, msgpack-python, snakemake, connection-pool, datrie, stopit\n",
            "  Building wheel for ConceptNet (setup.py) ... \u001b[?25l\u001b[?25hdone\n",
            "  Created wheel for ConceptNet: filename=ConceptNet-5.7.0-py3-none-any.whl size=5309031 sha256=99110776a290b619443305ff5e2cfa289a769170d8b62ec617abe049bb1baeba\n",
            "  Stored in directory: /root/.cache/pip/wheels/44/e4/c3/e75ae59235d2d633de8015042a33b4f23b74cbfedfae1e2741\n",
            "  Building wheel for msgpack-python (setup.py) ... \u001b[?25l\u001b[?25hdone\n",
            "  Created wheel for msgpack-python: filename=msgpack_python-0.5.6-cp310-cp310-linux_x86_64.whl size=239865 sha256=c7813b9c4cb7bc90ef1d640991df5f44da35958517781cb225a40fed53091444\n",
            "  Stored in directory: /root/.cache/pip/wheels/36/15/c0/6abd0b35e76ca9d00823d197c98d947d45670fcfe9b7e7416a\n",
            "  Building wheel for snakemake (pyproject.toml) ... \u001b[?25l\u001b[?25hdone\n",
            "  Created wheel for snakemake: filename=snakemake-7.32.4-py3-none-any.whl size=382340 sha256=17bd1766027dbc35e5543e926da28e8e14681b2de8bd285ab8a160588c711d81\n",
            "  Stored in directory: /root/.cache/pip/wheels/ae/48/df/1325e88b89e3254e9bd4aaa449a1c360ea704b454bc6639e8a\n",
            "  Building wheel for connection-pool (setup.py) ... \u001b[?25l\u001b[?25hdone\n",
            "  Created wheel for connection-pool: filename=connection_pool-0.0.3-py3-none-any.whl size=4063 sha256=0db57cc0439f7cbbf3fd898b1b8945e87b5d981cc69ff1bae2741882a9370962\n",
            "  Stored in directory: /root/.cache/pip/wheels/59/3a/9f/54ade2cd2bf01e213489ea1e1eb7f55c8848b9db63738cf0cb\n",
            "  Building wheel for datrie (pyproject.toml) ... \u001b[?25l\u001b[?25hdone\n",
            "  Created wheel for datrie: filename=datrie-0.8.2-cp310-cp310-linux_x86_64.whl size=746824 sha256=0c4e4ed2f9d3ea73863084a0079a144eaf60f117ff564473f624296bc82af7bd\n",
            "  Stored in directory: /root/.cache/pip/wheels/f4/a9/ac/b8e50d96214c3576ab73ac30d0a9b276014f06036f36230e7e\n",
            "  Building wheel for stopit (setup.py) ... \u001b[?25l\u001b[?25hdone\n",
            "  Created wheel for stopit: filename=stopit-1.1.2-py3-none-any.whl size=11937 sha256=5e298fe69c61666dbff88a4b90a58104f4cb4e8ad51fa4485180b2f77f12e4b0\n",
            "  Stored in directory: /root/.cache/pip/wheels/af/f9/87/bf5b3d565c2a007b4dae9d8142dccc85a9f164e517062dd519\n",
            "Successfully built ConceptNet msgpack-python snakemake connection-pool datrie stopit\n",
            "Installing collected packages: xmltodict, toposort, throttler, stopit, pulp, plac, msgpack-python, connection-pool, smmap, reretry, regex, psycopg2-binary, ordered_set, marisa-trie, locate, humanfriendly, ftfy, dpath, datrie, configargparse, yte, wordfreq, gitdb, gitpython, snakemake, ConceptNet\n",
            "  Attempting uninstall: regex\n",
            "    Found existing installation: regex 2023.6.3\n",
            "    Uninstalling regex-2023.6.3:\n",
            "      Successfully uninstalled regex-2023.6.3\n",
            "Successfully installed ConceptNet-5.7.0 configargparse-1.7 connection-pool-0.0.3 datrie-0.8.2 dpath-2.1.6 ftfy-6.1.3 gitdb-4.0.11 gitpython-3.1.40 humanfriendly-10.0 locate-1.1.1 marisa-trie-1.1.0 msgpack-python-0.5.6 ordered_set-4.1.0 plac-1.4.1 psycopg2-binary-2.9.9 pulp-2.7.0 regex-2023.10.3 reretry-0.11.8 smmap-5.0.1 snakemake-7.32.4 stopit-1.1.2 throttler-1.2.2 toposort-1.10 wordfreq-3.1.1 xmltodict-0.11.0 yte-1.5.1\n"
          ]
        }
      ],
      "source": [
        "!pip install gensim ConceptNet"
      ]
    },
    {
      "cell_type": "code",
      "source": [
        "!gdown '0B7XkCwpI5KDYNlNUTTlSS21pQmM'"
      ],
      "metadata": {
        "colab": {
          "base_uri": "https://localhost:8080/"
        },
        "id": "qYFUQPBzACRd",
        "outputId": "ec427cf1-4b2f-46d9-9ca6-10dfbc1d6805"
      },
      "execution_count": null,
      "outputs": [
        {
          "output_type": "stream",
          "name": "stdout",
          "text": [
            "/usr/local/lib/python3.10/dist-packages/gdown/cli.py:121: FutureWarning: Option `--id` was deprecated in version 4.3.1 and will be removed in 5.0. You don't need to pass it anymore to use a file ID.\n",
            "  warnings.warn(\n",
            "Downloading...\n",
            "From: https://drive.google.com/uc?id=0B7XkCwpI5KDYNlNUTTlSS21pQmM\n",
            "To: /content/GoogleNews-vectors-negative300.bin.gz\n",
            "100% 1.65G/1.65G [00:22<00:00, 74.5MB/s]\n"
          ]
        }
      ]
    },
    {
      "cell_type": "code",
      "source": [
        "!gunzip /content/GoogleNews-vectors-negative300.bin.gz"
      ],
      "metadata": {
        "id": "PzoswdXXA0Jr"
      },
      "execution_count": null,
      "outputs": []
    },
    {
      "cell_type": "code",
      "source": [
        "import numpy as np\n",
        "import matplotlib.pyplot as plt"
      ],
      "metadata": {
        "id": "9o6ERVOuMIx_"
      },
      "execution_count": null,
      "outputs": []
    },
    {
      "cell_type": "code",
      "source": [
        "from gensim.models import KeyedVectors\n",
        "\n",
        "model_path = \"/content/GoogleNews-vectors-negative300.bin\"\n",
        "model = KeyedVectors.load_word2vec_format(model_path, binary=True)\n",
        "\n",
        "# Tester le modèle\n",
        "vector = model['computer']"
      ],
      "metadata": {
        "id": "svLb1P-fFb-3"
      },
      "execution_count": null,
      "outputs": []
    },
    {
      "cell_type": "code",
      "source": [
        "result = model.most_similar(positive=['woman', 'strong'], negative=['man'], topn=10)\n",
        "print(result)"
      ],
      "metadata": {
        "colab": {
          "base_uri": "https://localhost:8080/"
        },
        "id": "C2Fh_JqWGBPb",
        "outputId": "43ba07b6-e2e9-412f-be42-7febd68466f0"
      },
      "execution_count": null,
      "outputs": [
        {
          "output_type": "stream",
          "name": "stdout",
          "text": [
            "[('robust', 0.5468761920928955), ('stronger', 0.5173190832138062), ('strongest', 0.514701247215271), ('solid', 0.5130299925804138), ('weak', 0.5043606758117676), ('stong', 0.4913865327835083), ('Strong', 0.4822641909122467), ('weaker', 0.4269268214702606), ('buoyant', 0.42073094844818115), ('positive', 0.4086167514324188)]\n"
          ]
        }
      ]
    },
    {
      "cell_type": "code",
      "source": [
        "result = model.most_similar(positive=['woman', 'doctor'], negative=['man'], topn=10)\n",
        "print(result)"
      ],
      "metadata": {
        "colab": {
          "base_uri": "https://localhost:8080/"
        },
        "id": "aeO_V62TG9rI",
        "outputId": "77b74467-ddc6-43db-b0ef-ff33402671ec"
      },
      "execution_count": null,
      "outputs": [
        {
          "output_type": "stream",
          "name": "stdout",
          "text": [
            "[('gynecologist', 0.7093892097473145), ('nurse', 0.6477287411689758), ('doctors', 0.6471460461616516), ('physician', 0.6438996195793152), ('pediatrician', 0.6249487996101379), ('nurse_practitioner', 0.6218312978744507), ('obstetrician', 0.6072013974189758), ('ob_gyn', 0.5986713171005249), ('midwife', 0.5927063226699829), ('dermatologist', 0.5739566683769226)]\n"
          ]
        }
      ]
    },
    {
      "cell_type": "code",
      "source": [
        "result = model.most_similar(positive=['woman', 'clever'], negative=['man'], topn=5)\n",
        "print(result)"
      ],
      "metadata": {
        "colab": {
          "base_uri": "https://localhost:8080/"
        },
        "id": "P0fdpwIVHTBx",
        "outputId": "aecf5b36-3e0a-4733-e729-8ca9cd5a8d61"
      },
      "execution_count": null,
      "outputs": [
        {
          "output_type": "stream",
          "name": "stdout",
          "text": [
            "[('ingenious', 0.5593975186347961), ('cleverly', 0.532904863357544), ('artful', 0.516146183013916), ('cutesy', 0.5156260132789612), ('cheeky', 0.5137776136398315)]\n"
          ]
        }
      ]
    },
    {
      "cell_type": "code",
      "source": [
        "result = model.most_similar(positive=['man', 'clever'], negative=['woman'], topn=5)\n",
        "print(result)"
      ],
      "metadata": {
        "colab": {
          "base_uri": "https://localhost:8080/"
        },
        "id": "4IU2Kseftxwf",
        "outputId": "c2051df9-27c6-4471-e2d1-e75e6191c7c2"
      },
      "execution_count": null,
      "outputs": [
        {
          "output_type": "stream",
          "name": "stdout",
          "text": [
            "[('crafty', 0.612179696559906), ('ingenious', 0.5909876227378845), ('cleverly', 0.5724455714225769), ('brilliant', 0.5675060749053955), ('skilful', 0.5615029335021973)]\n"
          ]
        }
      ]
    },
    {
      "cell_type": "code",
      "source": [
        "result = model.most_similar(positive=['woman', 'beauty'], negative=['man'], topn=5)\n",
        "print(result)"
      ],
      "metadata": {
        "colab": {
          "base_uri": "https://localhost:8080/"
        },
        "id": "rbbIB3VWIXiB",
        "outputId": "35bc28c3-c4dd-4693-85a5-ef5ba00c56a9"
      },
      "execution_count": null,
      "outputs": [
        {
          "output_type": "stream",
          "name": "stdout",
          "text": [
            "[('Beauty', 0.5641220211982727), ('femininity', 0.5559287071228027), ('feminity', 0.5258699655532837), ('loveliness', 0.5199074745178223), ('Bowers_Permanent_Collection', 0.5156458020210266)]\n"
          ]
        }
      ]
    },
    {
      "cell_type": "code",
      "source": [
        "result = model.most_similar(positive=['man', 'beauty'], negative=['woman'], topn=5)\n",
        "print(result)"
      ],
      "metadata": {
        "colab": {
          "base_uri": "https://localhost:8080/"
        },
        "id": "W-IUbPh9ud-k",
        "outputId": "cd719647-7b1a-4e30-a407-9c21a020f740"
      },
      "execution_count": null,
      "outputs": [
        {
          "output_type": "stream",
          "name": "stdout",
          "text": [
            "[('magnificence', 0.5524522066116333), ('splendor', 0.48675063252449036), ('Bowers_Permanent_Collection', 0.48359209299087524), ('unspoilt_beauty', 0.4834727942943573), ('grandeur', 0.48058241605758667)]\n"
          ]
        }
      ]
    },
    {
      "cell_type": "code",
      "source": [
        "result = model.most_similar(positive=['woman', 'professor'], negative=['man'], topn=5)\n",
        "print(result)"
      ],
      "metadata": {
        "colab": {
          "base_uri": "https://localhost:8080/"
        },
        "id": "dnl7rxJbIh4m",
        "outputId": "edc1fa1e-9335-456f-dd05-1f1deaa4040b"
      },
      "execution_count": null,
      "outputs": [
        {
          "output_type": "stream",
          "name": "stdout",
          "text": [
            "[('associate_professor', 0.7771056294441223), ('assistant_professor', 0.7558495402336121), ('professor_emeritus', 0.706612229347229), ('lecturer', 0.6982606053352356), ('sociology_professor', 0.653916597366333)]\n"
          ]
        }
      ]
    },
    {
      "cell_type": "code",
      "source": [
        "result = model.most_similar(positive=['man', 'professor'], negative=['woman'], topn=5)\n",
        "print(result)"
      ],
      "metadata": {
        "colab": {
          "base_uri": "https://localhost:8080/"
        },
        "id": "b4syHFjKuvmk",
        "outputId": "76a73f3d-a4e6-484d-e4ae-c86bb20232f0"
      },
      "execution_count": null,
      "outputs": [
        {
          "output_type": "stream",
          "name": "stdout",
          "text": [
            "[('professor_emeritus', 0.7433306574821472), ('emeritus_professor', 0.710946798324585), ('associate_professor', 0.68174147605896), ('Professor', 0.6495805382728577), ('assistant_professor', 0.6484991312026978)]\n"
          ]
        }
      ]
    },
    {
      "cell_type": "code",
      "source": [
        "sexy_words = ['sexy', 'handsome', 'attractive', 'sensual', 'seductive', 'beautiful', 'cute']\n",
        "competence_words = ['smart', 'intelligent', 'competent', 'skilled', 'talented', 'gifted', 'capable']"
      ],
      "metadata": {
        "id": "d-BuxQkmJdg-"
      },
      "execution_count": null,
      "outputs": []
    },
    {
      "cell_type": "code",
      "source": [
        "physical_words = ['sexy', 'handsome', 'attractive', 'beautiful', 'ugly', 'cute', 'tall', 'short', 'skinny', 'fat', 'petite']\n",
        "personality_words = ['ambitious', 'brave', 'calm', 'determined', 'friendly', 'dedicated', 'honest', 'nice', 'quiet', 'mean', 'loud']"
      ],
      "metadata": {
        "id": "sTPfWxB1M0cm"
      },
      "execution_count": null,
      "outputs": []
    },
    {
      "cell_type": "code",
      "source": [
        "targets_pp = {'first_target': {'name': 'Physical Descriptors',\n",
        "                            'words': physical_words},\n",
        "          'second_target': {'name': 'Personality Descriptors',\n",
        "                            'words': personality_words}}"
      ],
      "metadata": {
        "id": "4lE-Lq5fN2P8"
      },
      "execution_count": null,
      "outputs": []
    },
    {
      "cell_type": "code",
      "source": [
        "sexy_set = { item[0] for item in model.most_similar('sexy', topn=100)}"
      ],
      "metadata": {
        "id": "UeyPVlTLL1Ry"
      },
      "execution_count": null,
      "outputs": []
    },
    {
      "cell_type": "code",
      "source": [
        "def generate_gender_directions(gender_direction_embedding, word_list):\n",
        "  word_gender_directions = []\n",
        "  for word in word_list:\n",
        "    word_gender_direction = gender_direction_embedding @ model[word]\n",
        "    word_gender_directions.append(word_gender_direction)\n",
        "\n",
        "  return word_gender_directions"
      ],
      "metadata": {
        "id": "h4_0UrX1L6_U"
      },
      "execution_count": null,
      "outputs": []
    },
    {
      "cell_type": "code",
      "source": [
        "def gender_directions_plot(word_list, gender_directions):\n",
        "  pos_mask = np.array(gender_directions) > 0\n",
        "  neg_mask = np.array(gender_directions) < 0\n",
        "\n",
        "  if np.sum(neg_mask) > 0:\n",
        "    plt.barh(np.array(word_list)[neg_mask], np.array(gender_directions)[neg_mask], color = \"tab:orange\", label = \"he\")\n",
        "  if np.sum(pos_mask) > 0:\n",
        "    plt.barh(np.array(word_list)[pos_mask], np.array(gender_directions)[pos_mask], color = \"tab:blue\", label = \"she\")\n",
        "\n",
        "  plt.xlim([-0.3, 0.3])\n",
        "  plt.legend()\n",
        "  plt.xlabel(\"normalized gender direction\")\n",
        "  plt.show()"
      ],
      "metadata": {
        "id": "8CvU8ZgGMCrL"
      },
      "execution_count": null,
      "outputs": []
    },
    {
      "cell_type": "code",
      "source": [
        "gender_direction = model['she'] - model['he']\n",
        "gender_direction /= np.linalg.norm(gender_direction)"
      ],
      "metadata": {
        "id": "861hG56AMFau"
      },
      "execution_count": null,
      "outputs": []
    },
    {
      "cell_type": "code",
      "source": [
        "physical_words_eda = ['sexy', 'handsome', 'attractive', 'sensual', 'nude', 'naked', 'seductive', 'erotic', 'suggestive', 'provocative', 'beautiful']\n",
        "physical_gd = generate_gender_directions(gender_direction, physical_words_eda)"
      ],
      "metadata": {
        "id": "2rr8zMxlMWB1"
      },
      "execution_count": null,
      "outputs": []
    },
    {
      "cell_type": "code",
      "source": [
        "gender_directions_plot(physical_words, physical_gd)"
      ],
      "metadata": {
        "colab": {
          "base_uri": "https://localhost:8080/",
          "height": 449
        },
        "id": "mMhDJ6qFMgjN",
        "outputId": "549646b8-76d2-43a8-e8a0-f43f15c1f00d"
      },
      "execution_count": null,
      "outputs": [
        {
          "output_type": "display_data",
          "data": {
            "text/plain": [
              "<Figure size 640x480 with 1 Axes>"
            ],
            "image/png": "[encoded data removed]"
          },
          "metadata": {}
        }
      ]
    },
    {
      "cell_type": "code",
      "source": [
        "competence_words_eda = ['smart', 'intelligent', 'competent', 'skilled', 'gifted', 'winner', 'worthy']\n",
        "competence_gd = generate_gender_directions(gender_direction, competence_words_eda)"
      ],
      "metadata": {
        "id": "tHEeL6wiMssn"
      },
      "execution_count": null,
      "outputs": []
    },
    {
      "cell_type": "code",
      "source": [
        "gender_directions_plot(competence_words, competence_gd)"
      ],
      "metadata": {
        "colab": {
          "base_uri": "https://localhost:8080/",
          "height": 449
        },
        "id": "XaB9jvmQPHx5",
        "outputId": "ce182d9c-e177-4e68-b370-98cdd3877fcb"
      },
      "execution_count": null,
      "outputs": [
        {
          "output_type": "display_data",
          "data": {
            "text/plain": [
              "<Figure size 640x480 with 1 Axes>"
            ],
            "image/png": "[encoded data removed]"
          },
          "metadata": {}
        }
      ]
    }
  ]
}